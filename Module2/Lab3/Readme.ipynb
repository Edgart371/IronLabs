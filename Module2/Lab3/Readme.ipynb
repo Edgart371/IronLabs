{
 "cells": [
  {
   "cell_type": "markdown",
   "id": "dc05794e",
   "metadata": {},
   "source": [
    "## Challenges"
   ]
  },
  {
   "cell_type": "markdown",
   "id": "5314c73b",
   "metadata": {},
   "source": [
    "## Part 1"
   ]
  },
  {
   "cell_type": "markdown",
   "id": "cd59ce68",
   "metadata": {},
   "source": [
    "### Challenge 1\n",
    "Find a and b, if median=42, mean=50\n",
    "20,34, 34,  12, 56, 110, 49, a, b.\n",
    "\n",
    "For the values 12 | 20 | 34 | 34 | 49 | 56 | 110 | a | b\n",
    "Median = 42\n",
    "Mean = 50\n",
    "\n",
    "To find the value 'a' by the median\n",
    "    12 | 20 | 34 | 34 | a=42 | 49 | 56 | 110 | b\n",
    "     a = 42\n",
    "    \n",
    " To find the value 'b' by mean\n",
    " (357 + b)/9 = 50 <=> 450-357 = b <=> b = 93"
   ]
  },
  {
   "cell_type": "markdown",
   "id": "5bdc87f2",
   "metadata": {},
   "source": [
    "### Challenge 2\n",
    "A car hit an average speed of v1 = 60 kmph in the first half of the journey, and hit an average speed of v2 = 110 kmph in the second half of the journey. Determine the average speed of the car.\n",
    "\n",
    "v1 = 60 kmph\n",
    "v2 = 110 kmph\n",
    "Average speed of the car\n",
    "(v1+v2)/2 = 85"
   ]
  },
  {
   "cell_type": "markdown",
   "id": "70cc5f5d",
   "metadata": {},
   "source": [
    "### Challenge 3\n",
    "The lifetimes of 400 light-bulbs were found to the nearest hour. The results were recorded as\n",
    "follows.\n",
    "Lifetime (hours) 0–199 200–399 400–599 600–799 800–999 1000–1199 1200–1999\n",
    "Frequency         143     97      64      51      14      14        17\n",
    "Construct a histogram and cumulative frequency polygon for this dataset. Estimate the percentage\n",
    "of bulbs with lifetime less than 480 hours.\n",
    "\n",
    "(80*64)/(599-400)=25,73\n",
    "\n",
    "25,73+97+143 = 265,73/400 = 0,664*100 = 66,4%"
   ]
  },
  {
   "cell_type": "markdown",
   "id": "4303d50e",
   "metadata": {},
   "source": [
    "### Challenge 4\n",
    "#https://www.statology.org/median-of-grouped-data/\n",
    "#https://www.statology.org/mean-standard-deviation-grouped-data/\n",
    "\n",
    "The time between arrival of 60 patients at an intensive care unit were recorded to the nearest hour.\n",
    "The data are shown below.\n",
    "Time (hours) 0–19 20–39 40–59 60–79 80–99 100–119 120–139 140–159 160–179\n",
    "Frequency     16    13    17    4     4      3       1      1       1\n",
    "Determine the median, mean and standard deviation for this dataset.\n",
    "\n",
    "\n",
    "Median group is [40-59], because the total acumaltive frequency devide by 2 is equal to 30, and the value is inisde this grouped values.\n",
    "\n",
    "Applying the formula L + (((n/2)-B)/G)*W = 40+((30-29)/17)*19 = 41,12\n",
    "\n",
    "Mean \n",
    "The value of interval multiply by frequency divide by the total frequency\n",
    "sum(Fi*Xi)/sum F \n",
    "\n",
    "Mean = ((19/2)*16 + (29,5)*13 + (49,5)*17 + (69,5)*4 + (89,5)*4 + (109,5)*3 + (129,5)*1 + (149,5)*1 + (169,5)*1 )/60 = 46,5\n",
    "\n",
    "Standard deviation\n",
    "ST = (Σni(mi-μ)^2 / (N-1))^1/2 = (((16*(9,5-46,5)^2)+(13*(29,5-46,5)^2)+(17*(49,5-46,5)^2)+(4*(69,5-46,5)^2)+\n",
    "(4*(89,5-46,5)^2)+(3*(109,5-46,5)^2)+(1*(129,5-46,5)^2)+(1*(149,5-46,5)^2)+(1*(169,5-46,5)^2)/(60-1))^(1/2))\n",
    "ST = 36,79\n",
    "\n",
    "ni: The frequency of the ith group\n",
    "mi: The midpoint of the ith group\n",
    "μ: The mean\n",
    "N: The total sample size\n"
   ]
  },
  {
   "cell_type": "markdown",
   "id": "52db6c17",
   "metadata": {},
   "source": [
    "## Part 2"
   ]
  },
  {
   "cell_type": "markdown",
   "id": "e367e7b5",
   "metadata": {},
   "source": [
    "### Challenge 1\n",
    "One player rolls two dices. Describe the measurable space and the random variable for:\n",
    "* A. The values that the player obtains.\n",
    "* B. The sum of the values obtained.\n",
    "* C. The maximum value obtained after rolling both dices.\n",
    "\n",
    "A: {(1,1),(1,2),(1,3),(1,4),(1,5),(1,6), (2,2),(2,3),(2,4),(2,5),(2,6)(3,3),(3,4),(3,5),(3,6), (4,4),(4,5),(4,6), (5,5),(5,6), (6,6)}\n",
    "\n",
    "\n",
    "B: Value1:{1,2,3,4,5,6}, Value 2:{1,2,3,4,5,6}, 36 values possible 6!*6!\n",
    "    1\t2\t3\t4\t5\t6\n",
    "1\t2\t\n",
    "2\t3\t4\n",
    "3\t4   5   6\t\n",
    "4\t5\t6   7    8\n",
    "5\t6\t7   8    9  10\n",
    "6\t7\t8\t9\t10\t11\t12\n",
    "\n",
    "C: The maxium value obtained is 6+6=12.\n",
    "\n",
    "\n",
    "Describe the following events:\n",
    "* Case A: Both values are greater than 5.\n",
    "* Case B: The sum of values is even.\n",
    "* Case C: The maximum is the value of both rolls.\n",
    "\n",
    "Case A : There are only 1 possibilitie {6,6}, P=1/21.\n",
    "Case B : There are 18 results that are even.\n",
    "Case C : Is one result 6 and 6, total 12"
   ]
  },
  {
   "cell_type": "markdown",
   "id": "a0ce4813",
   "metadata": {},
   "source": [
    "### Challenge 2\n",
    "One player picks two cards from a poker deck. Describe the measurable space and the random variable for:\n",
    "* A. The number of figures he picks.\n",
    "* B. The sum of card values. Consider that the value of figures is 10 and the value of aces is 15.\n",
    "* C. The number of hearts or spades he picks.\n",
    "\n",
    "A : clubs=c, Diamonds=d,hearts=h, spades=s S={(c,c),(c,d),(c,h),(c,s),(d,d),(d,h),(d,s),(h,h),(h,s),(s,s)}\n",
    "\n",
    "B : S={4,5,6,7,8,9,10,11,12,13,14,15,16,17,18,19,20,21,22,23,24,25}\n",
    "\n",
    "C : S={(c,h),(c,s),(d,h),(d,s),(h,h),(h,s),(s,s)}\n",
    "\n",
    "\n",
    "Describe the following events:\n",
    "* Case A: The number of figures in the cards the player picked is two.\n",
    "* Case B: The sum of card values is 17.\n",
    "* Case C: The value of both cards is less than 8.\n",
    "\n",
    "Case A : S={(c,d),(c,h),(c,s),(d,h),(d,s),(h,s)} P(X=S) = 6/10\n",
    "\n",
    "Case B : S={(7,10),(8,9),(10,7),(J,7),(Q,7),(K,7),(A,2)} P(X=S) = 8/78\n",
    "\n",
    "Case C :  S={(2,2),(2,3),(2,4),(2,5),(3,2),(3,3),(3,4),(4,2),(4,3, (5,2)} P(X=S) = 10/78"
   ]
  },
  {
   "cell_type": "markdown",
   "id": "c72facfb",
   "metadata": {},
   "source": [
    "### Challenge 3\n",
    "Two players roll a dice. Describe the measurable space and the random variable for:\n",
    "* A. The score of player A\n",
    "Response    {1,2,3,4,5,6}\n",
    "\n",
    "* B. The greatest score.\n",
    "Responde : {6,6}\n",
    "\n",
    "* C. The earnings of player A if the game rules state that:  \n",
    "\"The player with the greatest score gets a coin from the other player.\"\n",
    "\n",
    "Response 15 results that player A can gain one coin\n",
    "\n",
    "A  1  2\t 3\t 4\t 5\t 6\n",
    "1\t\t\n",
    "2  3\t\n",
    "3  4   5   \t\n",
    "4  5   6  7    \n",
    "5  6   7  8  9  \n",
    "6  7   8  9\t 10\t 11\t\n",
    "\n",
    "\n",
    "\n",
    "* D. The earnings of player A if the game rules state that:  \n",
    "\"The player with the greatest score gets as many coins as the difference between the score of player A and player B.\". \n",
    "Response {2,1},{2,3},{2,4},{2,5},{2,6},{3,4},{3,5},{3,6},{4,6},{5,6},\n",
    "\n",
    "Describe the following events:\n",
    "* Case A: The score of player A is 2.\n",
    "Response P = 1/6.\n",
    "\n",
    "* Case B: The greatest score is lower or equal than 2.\n",
    "Response equal to 2 {1,1}, P = 1/36\n",
    "\n",
    "* Case C: Considering the case where the winner gets as many coins as the difference between scores (D), describe: \n",
    "  * Player A wins at least 4 coins.\n",
    "Response the result as to be {5,1},{6,1}\n",
    "  * Player A loses more than 2 coins.\n",
    "Responde the result as to be {1,4},{1,5},{1,6},{2,5},{2,6},{3,6}\n",
    "  * Player A neither wins nor loses coins.\n",
    "Response the result {1,1}, {2,2}, {3,3}, {4,4}, {5,5}, {6,6}\n"
   ]
  },
  {
   "cell_type": "markdown",
   "id": "9d1ae79e",
   "metadata": {},
   "source": [
    "## Bonus challenges"
   ]
  },
  {
   "cell_type": "markdown",
   "id": "5e259f4d",
   "metadata": {},
   "source": [
    "### Bonus Challenge 1\n",
    "Three players take balls from a box. Inside that box there are red, blue, green and black balls. The players can take three balls at mosts with the following rules:\n",
    "\n",
    "* If the ball is blue, they can take another ball.\n",
    "* If the ball is green, they get one point and they can take another ball.\n",
    "* If the ball is red, they can’t take another ball.\n",
    "* If the ball is black, they lose one point and they can’t take another ball.\n",
    "\n",
    "Describe the measurable space and the random variable for:\n",
    "* A. Player A wins. Do not consider ties as a win.\n",
    "* B. Player A and B get the same points.\n",
    "* C. All players get 0 points.\n",
    "\n"
   ]
  },
  {
   "cell_type": "markdown",
   "id": "1122353f",
   "metadata": {},
   "source": [
    "### Bonus Challenge 2\n",
    "Consider the situation of bonus challenge 1 but now with four players. Does anything change in your solutions? What are the changes in each case?\n",
    "\n"
   ]
  },
  {
   "cell_type": "markdown",
   "id": "28f58632",
   "metadata": {},
   "source": [
    "### Bonus Challenge 3\n",
    "One player takes three balls from a box. Inside the box there are 5 balls: two of them are black and the other three are white. \n",
    "\n",
    "Describe the measurable space and the random variable for:\n",
    "* A. The number of white balls if every time we take a ball we keep it.\n",
    "* B. The number of white balls if every time we take a ball we put it back again into the box.\n",
    "* C. The number of black balls if every time we take a ball we keep it.\n",
    "* D. The number of black balls if every time we take a ball we put it back into the box.\n",
    "\n",
    "| Attempt | #1 | #2 |\n",
    "| :---: | :---: | :---: |\n",
    "| Seconds | 301 | 283 |\n",
    "\n"
   ]
  },
  {
   "cell_type": "markdown",
   "id": "09d83392",
   "metadata": {},
   "source": [
    "\n",
    "## Part 3\n",
    "### Challenge 1\n",
    "\n",
    "| #student_id | #score |\n",
    "| :---------: | :----: |\n",
    "| 1 | 91 |\n",
    "| 2 | 72 |\n",
    "| 3 | 98 |\n",
    "| 4 | 62 |\n",
    "| 5 | 62 |\n",
    "| 6 | 95 |\n",
    "| 7 | 83 |\n",
    "| 8 | 86 |\n",
    "| 9 | 56 |\n",
    "|10 | 97 |\n",
    "|11 | 58 |\n",
    "|12 | 71 |\n",
    "|13 | 87 |\n",
    "|14 | 83 |\n",
    "|15 | 98 |\n",
    "\n",
    "\n",
    "Please find MEAN, SUM, STANDARD DEVIATION, VARIANCE, MIN and MAX.\n",
    "\n",
    "\n"
   ]
  },
  {
   "cell_type": "markdown",
   "id": "61d8deb7",
   "metadata": {},
   "source": [
    "Mean = 79,93\n",
    "Sum = 1199\n",
    "Standard deviation = 15,21\n",
    "Variance = 231,35\n",
    "Max = 98\n",
    "Min = 56"
   ]
  }
 ],
 "metadata": {
  "kernelspec": {
   "display_name": "Python 3 (ipykernel)",
   "language": "python",
   "name": "python3"
  },
  "language_info": {
   "codemirror_mode": {
    "name": "ipython",
    "version": 3
   },
   "file_extension": ".py",
   "mimetype": "text/x-python",
   "name": "python",
   "nbconvert_exporter": "python",
   "pygments_lexer": "ipython3",
   "version": "3.9.7"
  }
 },
 "nbformat": 4,
 "nbformat_minor": 5
}

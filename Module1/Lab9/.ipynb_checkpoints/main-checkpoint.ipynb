{
 "cells": [
  {
   "cell_type": "markdown",
   "metadata": {},
   "source": [
    "# Loops\n",
    "\n",
    "Complete the following set of exercises to solidify your knowledge for Loops."
   ]
  },
  {
   "cell_type": "markdown",
   "metadata": {},
   "source": [
    "#### 1. Print first 10 natural numbers using while loop"
   ]
  },
  {
   "cell_type": "code",
   "execution_count": 3,
   "metadata": {},
   "outputs": [
    {
     "name": "stdout",
     "output_type": "stream",
     "text": [
      "1 2 3 4 5 6 7 8 9 10 "
     ]
    }
   ],
   "source": [
    "i=1\n",
    "while i<=10:\n",
    "    print(i,end=\" \")\n",
    "    i+=1"
   ]
  },
  {
   "cell_type": "markdown",
   "metadata": {},
   "source": [
    "#### 2. Display numbers from a list using loop\n",
    "Write a program to display only those numbers from a list that satisfy the following conditions\n",
    "\n",
    "The number must be divisible by five\n",
    "\n",
    "If the number is greater than 150, then skip it and move to the next number\n",
    "\n",
    "If the number is greater than 500, then stop the loop\n",
    "\n",
    "numbers = [12, 75, 150, 180, 145, 525, 50]"
   ]
  },
  {
   "cell_type": "code",
   "execution_count": 2,
   "metadata": {},
   "outputs": [
    {
     "name": "stdout",
     "output_type": "stream",
     "text": [
      "75 150 145 50 "
     ]
    }
   ],
   "source": [
    "numbers = [12, 75, 150, 180, 145, 525, 50]\n",
    "for n in numbers:\n",
    "    if n%5 == 0:\n",
    "        if n > 150:\n",
    "            continue\n",
    "        if n > 500:\n",
    "            break\n",
    "        print(n, end=\" \")\n",
    "        \n",
    "#Fix      \n",
    "\"\"\"for index in range (len(numbers)+1):\n",
    "    if numbers[index]>500:\n",
    "        break\n",
    "    elif numbers[index]>150:\n",
    "        continue\n",
    "    elif numbers[index]%5==0:\n",
    "        print(number[index])\n",
    "    else:\n",
    "        continue\"\"\"\n",
    "        "
   ]
  },
  {
   "cell_type": "markdown",
   "metadata": {},
   "source": [
    "#### 3.Write a Python program to check the validity of a password (input from users).\n",
    "\n",
    "Validation :\n",
    "\n",
    "At least 1 letter between [a-z] and 1 letter between [A-Z].\n",
    "\n",
    "At least 1 number between [0-9].\n",
    "\n",
    "At least 1 character from [$#@].\n",
    "\n",
    "Minimum length 6 characters.\n",
    "\n",
    "Maximum length 16 characters."
   ]
  },
  {
   "cell_type": "code",
   "execution_count": 4,
   "metadata": {},
   "outputs": [
    {
     "name": "stdout",
     "output_type": "stream",
     "text": [
      "Enter a password with at least one caps letter, small letter, number, and special caracter [$#@], bigger that 6 characters and less of 16 characters\n",
      "Please enter a password :asdfgQ#2\n",
      "Password is good !\n"
     ]
    }
   ],
   "source": [
    "# r'[a-z]' - to ignore the orientacion of \\/\n",
    "print(\"Enter a password with at least one caps letter, small letter, number, and special caracter [$#@], bigger that 6 characters and less of 16 characters\")\n",
    "\n",
    "password = input('Please enter a password :')\n",
    "\n",
    "import re\n",
    "\n",
    "if len(password)>=6 and len(password)<=16 and re.search(r'[a-z]',password) and re.search('[A-Z]',password) and re.search('[0-9]',password) and re.search('[$]',password) or re.search('[#]',password) or re.search('[@]',password):\n",
    "    print('Password is good !')\n",
    "else:\n",
    "    print(\"The password does not meet all the conditions\")\n",
    "    \n",
    "\"\"\"import re\n",
    "p= input(\"Input your password\")\n",
    "x = True\n",
    "while x:\n",
    "    if (len(p)<6 or len(p)>16):\n",
    "        break\n",
    "    elif not re.search(\"[a-z]\",p):\n",
    "        break\n",
    "    elif not re.search(\"[0-9]\",p):\n",
    "        break\n",
    "    elif not re.search(\"[A-Z]\",p):\n",
    "        break\n",
    "    elif not re.search(\"[$#@]\",p):\n",
    "        break\n",
    "    elif re.search(\"\\s\",p):\n",
    "        break\n",
    "    else:\n",
    "        print(\"Valid Password\")\n",
    "        x=False\n",
    "        break\n",
    "if x:\n",
    "    print(\"Not a Valid Password\")\n",
    "    p= input(\"Input your password\")\"\"\""
   ]
  },
  {
   "cell_type": "markdown",
   "metadata": {},
   "source": [
    "#### 4. Break the loop when x is 6, and see what happens with the else block"
   ]
  },
  {
   "cell_type": "code",
   "execution_count": 4,
   "metadata": {},
   "outputs": [
    {
     "name": "stdout",
     "output_type": "stream",
     "text": [
      "1 x not equal to 6\n",
      "2 x not equal to 6\n",
      "3 x not equal to 6\n",
      "4 x not equal to 6\n",
      "5 x not equal to 6\n"
     ]
    }
   ],
   "source": [
    "\"\"\"i = 1\n",
    "while i<10:\n",
    "    print(i)\n",
    "    i+=1\n",
    "    if i==6:\n",
    "        break\"\"\" #For while i have to have i+=0 to advance teh number\n",
    "\n",
    "for x in range (1,20):\n",
    "    if x == 6:\n",
    "        break\n",
    "    else :\n",
    "        print(x,'x not equal to 6')"
   ]
  },
  {
   "cell_type": "markdown",
   "metadata": {},
   "source": [
    "#### 5. Write a Python program to calculate the sum and average of n integer numbers (input from the user). Input 0 to finish.\n"
   ]
  },
  {
   "cell_type": "code",
   "execution_count": 5,
   "metadata": {},
   "outputs": [
    {
     "name": "stdout",
     "output_type": "stream",
     "text": [
      "Enter a number 83\n",
      "Enter a number 56\n",
      "Enter a number 4\n",
      "Enter a number 0\n",
      "143 47.666666666666664\n"
     ]
    }
   ],
   "source": [
    "# (n=n+1) each times it iterates adds one number to the existing that starts whit n+1\n",
    "x=0\n",
    "n=0\n",
    "y=int(input(\"Enter a number \"))\n",
    "while y!=0:\n",
    "    x = x + y\n",
    "    n = n + 1\n",
    "    y=int(input(\"Enter a number \"))\n",
    "print(x,x/n)\n",
    "\n",
    "\"\"\"print(\"Input some integers to calculate their sum and average. Input 0 to exit.\")\n",
    "count = 0\n",
    "sum = 0.0\n",
    "number = int(input(\"\"))\n",
    "while number != 0:\n",
    "    number = int(input(\"\"))\n",
    "    sum = sum + number\n",
    "    count += 1\n",
    "if count == 0:\n",
    "    print(\"Input some numbers\")\n",
    "else:\n",
    "    print(\"Average and Sum of the above numbers are: \", sum / (count-1), sum)\"\"\""
   ]
  },
  {
   "cell_type": "code",
   "execution_count": null,
   "metadata": {},
   "outputs": [],
   "source": []
  }
 ],
 "metadata": {
  "kernelspec": {
   "display_name": "Python 3 (ipykernel)",
   "language": "python",
   "name": "python3"
  },
  "language_info": {
   "codemirror_mode": {
    "name": "ipython",
    "version": 3
   },
   "file_extension": ".py",
   "mimetype": "text/x-python",
   "name": "python",
   "nbconvert_exporter": "python",
   "pygments_lexer": "ipython3",
   "version": "3.9.7"
  }
 },
 "nbformat": 4,
 "nbformat_minor": 2
}

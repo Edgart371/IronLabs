{
 "cells": [
  {
   "cell_type": "markdown",
   "metadata": {},
   "source": [
    "# Intrduction to NumPy\n",
    "\n",
    "\n",
    "#### 1. Import NumPy under the name np."
   ]
  },
  {
   "cell_type": "code",
   "execution_count": 1,
   "metadata": {},
   "outputs": [],
   "source": [
    "# your code here\n",
    "import numpy as np"
   ]
  },
  {
   "cell_type": "markdown",
   "metadata": {},
   "source": [
    "#### 2. Print your NumPy version."
   ]
  },
  {
   "cell_type": "code",
   "execution_count": 2,
   "metadata": {},
   "outputs": [
    {
     "name": "stdout",
     "output_type": "stream",
     "text": [
      "<module 'numpy' from '/Users/edgartome_1/opt/anaconda3/lib/python3.9/site-packages/numpy/__init__.py'>\n",
      "1.20.3\n"
     ]
    }
   ],
   "source": [
    "# your code here\n",
    "print(np)\n",
    "print(np.__version__)"
   ]
  },
  {
   "cell_type": "markdown",
   "metadata": {},
   "source": [
    "#### 3. Generate a 2x3x5 3-dimensional array with random values. Assign the array to variable *a*.\n",
    "**Challenge**: there are at least three easy ways that use numpy to generate random arrays. How many ways can you find?"
   ]
  },
  {
   "cell_type": "code",
   "execution_count": 3,
   "metadata": {},
   "outputs": [
    {
     "data": {
      "text/plain": [
       "array([[[0.67854777, 0.81429548, 0.11658111, 0.23855125, 0.96722377],\n",
       "        [0.03876805, 0.02561626, 0.04117927, 0.94842409, 0.08629408],\n",
       "        [0.24864596, 0.37658818, 0.12705695, 0.0052975 , 0.50415428]],\n",
       "\n",
       "       [[0.49027339, 0.21495314, 0.74917408, 0.69752184, 0.45576315],\n",
       "        [0.77254185, 0.43808898, 0.90305544, 0.49790857, 0.13238479],\n",
       "        [0.71333745, 0.97667465, 0.92975244, 0.70270879, 0.61636271]]])"
      ]
     },
     "execution_count": 3,
     "metadata": {},
     "output_type": "execute_result"
    }
   ],
   "source": [
    "# Method 1\n",
    "\n",
    "a=np.random.random((2,3,5))\n",
    "a"
   ]
  },
  {
   "cell_type": "code",
   "execution_count": 4,
   "metadata": {},
   "outputs": [
    {
     "data": {
      "text/plain": [
       "array([[[0.51182162, 0.9504637 , 0.14415961, 0.94864945, 0.31183145],\n",
       "        [0.42332645, 0.82770259, 0.40919914, 0.54959369, 0.02755911],\n",
       "        [0.75351311, 0.53814331, 0.32973172, 0.7884287 , 0.30319483]],\n",
       "\n",
       "       [[0.45349789, 0.1340417 , 0.40311299, 0.20345524, 0.26231334],\n",
       "        [0.75036467, 0.28040876, 0.48519097, 0.9807372 , 0.96165719],\n",
       "        [0.72478994, 0.54122686, 0.2768912 , 0.16065201, 0.96992541]]])"
      ]
     },
     "execution_count": 4,
     "metadata": {},
     "output_type": "execute_result"
    }
   ],
   "source": [
    "# Method 2\n",
    "a=np.random.default_rng(1).random((2,3,5))\n",
    "a"
   ]
  },
  {
   "cell_type": "code",
   "execution_count": 5,
   "metadata": {},
   "outputs": [
    {
     "data": {
      "text/plain": [
       "array([[[1.97956795, 1.11764187, 1.71274271, 1.37198926, 1.27764265],\n",
       "        [1.11364456, 1.87007386, 1.67392245, 1.31367964, 1.1557995 ],\n",
       "        [1.28389415, 1.16984642, 1.92323776, 1.39027159, 1.83540459]],\n",
       "\n",
       "       [[1.58705381, 1.36918852, 1.31010201, 1.40628146, 1.34264164],\n",
       "        [1.32134811, 1.70222468, 1.53376586, 1.71491926, 1.48876302],\n",
       "        [1.52242328, 1.46084886, 1.32183599, 1.04182066, 1.0927051 ]]])"
      ]
     },
     "execution_count": 5,
     "metadata": {},
     "output_type": "execute_result"
    }
   ],
   "source": [
    "# Method 3\n",
    "a=np.random.uniform(1,2,[2,3,5])\n",
    "a\n"
   ]
  },
  {
   "cell_type": "markdown",
   "metadata": {},
   "source": [
    "#### 4. Print *a*.\n"
   ]
  },
  {
   "cell_type": "code",
   "execution_count": 6,
   "metadata": {},
   "outputs": [
    {
     "data": {
      "text/plain": [
       "array([[[1.97956795, 1.11764187, 1.71274271, 1.37198926, 1.27764265],\n",
       "        [1.11364456, 1.87007386, 1.67392245, 1.31367964, 1.1557995 ],\n",
       "        [1.28389415, 1.16984642, 1.92323776, 1.39027159, 1.83540459]],\n",
       "\n",
       "       [[1.58705381, 1.36918852, 1.31010201, 1.40628146, 1.34264164],\n",
       "        [1.32134811, 1.70222468, 1.53376586, 1.71491926, 1.48876302],\n",
       "        [1.52242328, 1.46084886, 1.32183599, 1.04182066, 1.0927051 ]]])"
      ]
     },
     "execution_count": 6,
     "metadata": {},
     "output_type": "execute_result"
    }
   ],
   "source": [
    "# your code here\n",
    "a"
   ]
  },
  {
   "cell_type": "markdown",
   "metadata": {},
   "source": [
    "#### 5. Create a 5x2x3 3-dimensional array with all values equaling 1. Assign the array to variable *b*."
   ]
  },
  {
   "cell_type": "code",
   "execution_count": 7,
   "metadata": {},
   "outputs": [],
   "source": [
    "# your code here\n",
    "b=np.ones((5,2,3),dtype=int)"
   ]
  },
  {
   "cell_type": "markdown",
   "metadata": {},
   "source": [
    "#### 6. Print *b*.\n"
   ]
  },
  {
   "cell_type": "code",
   "execution_count": 8,
   "metadata": {},
   "outputs": [
    {
     "data": {
      "text/plain": [
       "array([[[1, 1, 1],\n",
       "        [1, 1, 1]],\n",
       "\n",
       "       [[1, 1, 1],\n",
       "        [1, 1, 1]],\n",
       "\n",
       "       [[1, 1, 1],\n",
       "        [1, 1, 1]],\n",
       "\n",
       "       [[1, 1, 1],\n",
       "        [1, 1, 1]],\n",
       "\n",
       "       [[1, 1, 1],\n",
       "        [1, 1, 1]]])"
      ]
     },
     "execution_count": 8,
     "metadata": {},
     "output_type": "execute_result"
    }
   ],
   "source": [
    "# your code here\n",
    "b"
   ]
  },
  {
   "cell_type": "markdown",
   "metadata": {},
   "source": [
    "#### 7. Do *a* and *b* have the same size? How do you prove that in Python code?"
   ]
  },
  {
   "cell_type": "code",
   "execution_count": 9,
   "metadata": {},
   "outputs": [
    {
     "data": {
      "text/plain": [
       "True"
      ]
     },
     "execution_count": 9,
     "metadata": {},
     "output_type": "execute_result"
    }
   ],
   "source": [
    "# your code here\n",
    "a.size==b.size"
   ]
  },
  {
   "cell_type": "markdown",
   "metadata": {},
   "source": [
    "#### 8. Are you able to add *a* and *b*? Why or why not?\n"
   ]
  },
  {
   "cell_type": "code",
   "execution_count": 10,
   "metadata": {},
   "outputs": [
    {
     "ename": "ValueError",
     "evalue": "operands could not be broadcast together with shapes (2,3,5) (5,2,3) ",
     "output_type": "error",
     "traceback": [
      "\u001b[0;31m---------------------------------------------------------------------------\u001b[0m",
      "\u001b[0;31mValueError\u001b[0m                                Traceback (most recent call last)",
      "\u001b[0;32m/var/folders/bk/pxkcy9j94652x3trpppgb63m0000gp/T/ipykernel_42049/323350519.py\u001b[0m in \u001b[0;36m<module>\u001b[0;34m\u001b[0m\n\u001b[1;32m      1\u001b[0m \u001b[0;31m# your answer here\u001b[0m\u001b[0;34m\u001b[0m\u001b[0;34m\u001b[0m\u001b[0m\n\u001b[0;32m----> 2\u001b[0;31m \u001b[0mc\u001b[0m\u001b[0;34m=\u001b[0m\u001b[0ma\u001b[0m\u001b[0;34m+\u001b[0m\u001b[0mb\u001b[0m\u001b[0;34m\u001b[0m\u001b[0;34m\u001b[0m\u001b[0m\n\u001b[0m\u001b[1;32m      3\u001b[0m \u001b[0mc\u001b[0m\u001b[0;34m\u001b[0m\u001b[0;34m\u001b[0m\u001b[0m\n",
      "\u001b[0;31mValueError\u001b[0m: operands could not be broadcast together with shapes (2,3,5) (5,2,3) "
     ]
    }
   ],
   "source": [
    "# your answer here\n",
    "c=a+b\n",
    "c"
   ]
  },
  {
   "cell_type": "markdown",
   "metadata": {},
   "source": [
    "#### 9. Transpose *b* so that it has the same structure of *a* (i.e. become a 2x3x5 array). Assign the transposed array to variable *c*."
   ]
  },
  {
   "cell_type": "code",
   "execution_count": 11,
   "metadata": {},
   "outputs": [
    {
     "data": {
      "text/plain": [
       "array([[[1, 1, 1, 1, 1],\n",
       "        [1, 1, 1, 1, 1],\n",
       "        [1, 1, 1, 1, 1]],\n",
       "\n",
       "       [[1, 1, 1, 1, 1],\n",
       "        [1, 1, 1, 1, 1],\n",
       "        [1, 1, 1, 1, 1]]])"
      ]
     },
     "execution_count": 11,
     "metadata": {},
     "output_type": "execute_result"
    }
   ],
   "source": [
    "# your code here\n",
    "c=b.reshape(2,3,5)\n",
    "c"
   ]
  },
  {
   "cell_type": "markdown",
   "metadata": {},
   "source": [
    "#### 10. Try to add *a* and *c*. Now it should work. Assign the sum to variable *d*. But why does it work now?"
   ]
  },
  {
   "cell_type": "code",
   "execution_count": 12,
   "metadata": {},
   "outputs": [
    {
     "data": {
      "text/plain": [
       "array([[[2.97956795, 2.11764187, 2.71274271, 2.37198926, 2.27764265],\n",
       "        [2.11364456, 2.87007386, 2.67392245, 2.31367964, 2.1557995 ],\n",
       "        [2.28389415, 2.16984642, 2.92323776, 2.39027159, 2.83540459]],\n",
       "\n",
       "       [[2.58705381, 2.36918852, 2.31010201, 2.40628146, 2.34264164],\n",
       "        [2.32134811, 2.70222468, 2.53376586, 2.71491926, 2.48876302],\n",
       "        [2.52242328, 2.46084886, 2.32183599, 2.04182066, 2.0927051 ]]])"
      ]
     },
     "execution_count": 12,
     "metadata": {},
     "output_type": "execute_result"
    }
   ],
   "source": [
    "# your code/answer here\n",
    "d=a+c\n",
    "d"
   ]
  },
  {
   "cell_type": "markdown",
   "metadata": {},
   "source": [
    " 11. Print *a* and *d*. Notice the difference and relation of the two array in terms of the values? Explain."
   ]
  },
  {
   "cell_type": "code",
   "execution_count": 13,
   "metadata": {
    "scrolled": true
   },
   "outputs": [
    {
     "name": "stdout",
     "output_type": "stream",
     "text": [
      "[[[1.97956795 1.11764187 1.71274271 1.37198926 1.27764265]\n",
      "  [1.11364456 1.87007386 1.67392245 1.31367964 1.1557995 ]\n",
      "  [1.28389415 1.16984642 1.92323776 1.39027159 1.83540459]]\n",
      "\n",
      " [[1.58705381 1.36918852 1.31010201 1.40628146 1.34264164]\n",
      "  [1.32134811 1.70222468 1.53376586 1.71491926 1.48876302]\n",
      "  [1.52242328 1.46084886 1.32183599 1.04182066 1.0927051 ]]]\n",
      "[[[2.97956795 2.11764187 2.71274271 2.37198926 2.27764265]\n",
      "  [2.11364456 2.87007386 2.67392245 2.31367964 2.1557995 ]\n",
      "  [2.28389415 2.16984642 2.92323776 2.39027159 2.83540459]]\n",
      "\n",
      " [[2.58705381 2.36918852 2.31010201 2.40628146 2.34264164]\n",
      "  [2.32134811 2.70222468 2.53376586 2.71491926 2.48876302]\n",
      "  [2.52242328 2.46084886 2.32183599 2.04182066 2.0927051 ]]]\n"
     ]
    }
   ],
   "source": [
    "# your code/answer here\n",
    "print(a)\n",
    "\n",
    "print(d)"
   ]
  },
  {
   "cell_type": "markdown",
   "metadata": {},
   "source": [
    "12. Multiply *a* and *c*. Assign the result to *e*."
   ]
  },
  {
   "cell_type": "code",
   "execution_count": 14,
   "metadata": {},
   "outputs": [
    {
     "data": {
      "text/plain": [
       "array([[[1.97956795, 1.11764187, 1.71274271, 1.37198926, 1.27764265],\n",
       "        [1.11364456, 1.87007386, 1.67392245, 1.31367964, 1.1557995 ],\n",
       "        [1.28389415, 1.16984642, 1.92323776, 1.39027159, 1.83540459]],\n",
       "\n",
       "       [[1.58705381, 1.36918852, 1.31010201, 1.40628146, 1.34264164],\n",
       "        [1.32134811, 1.70222468, 1.53376586, 1.71491926, 1.48876302],\n",
       "        [1.52242328, 1.46084886, 1.32183599, 1.04182066, 1.0927051 ]]])"
      ]
     },
     "execution_count": 14,
     "metadata": {},
     "output_type": "execute_result"
    }
   ],
   "source": [
    "# your code here\n",
    "e=a*c\n",
    "e"
   ]
  },
  {
   "cell_type": "markdown",
   "metadata": {},
   "source": [
    "#### 13. Does *e* equal to *a*? Why or why not?\n"
   ]
  },
  {
   "cell_type": "code",
   "execution_count": 15,
   "metadata": {},
   "outputs": [
    {
     "data": {
      "text/plain": [
       "array([[[ True,  True,  True,  True,  True],\n",
       "        [ True,  True,  True,  True,  True],\n",
       "        [ True,  True,  True,  True,  True]],\n",
       "\n",
       "       [[ True,  True,  True,  True,  True],\n",
       "        [ True,  True,  True,  True,  True],\n",
       "        [ True,  True,  True,  True,  True]]])"
      ]
     },
     "execution_count": 15,
     "metadata": {},
     "output_type": "execute_result"
    }
   ],
   "source": [
    "# your code/answer here\n",
    "e==a"
   ]
  },
  {
   "cell_type": "markdown",
   "metadata": {},
   "source": [
    "#### 14. Identify the max, min, and mean values in *d*. Assign those values to variables *d_max*, *d_min* and *d_mean*."
   ]
  },
  {
   "cell_type": "code",
   "execution_count": 16,
   "metadata": {},
   "outputs": [
    {
     "name": "stdout",
     "output_type": "stream",
     "text": [
      "2.979567945684546\n",
      "2.04182066299933\n",
      "2.44684270735998\n"
     ]
    }
   ],
   "source": [
    "# your code here\n",
    "d_max=d.max()\n",
    "d_min=d.min()\n",
    "d_mean=d.mean()\n",
    "\n",
    "print(d_max)\n",
    "print(d_min)\n",
    "print(d_mean)"
   ]
  },
  {
   "cell_type": "markdown",
   "metadata": {},
   "source": [
    "#### 15. Now we want to label the values in *d*. First create an empty array *f* with the same shape (i.e. 2x3x5) as *d* using `np.empty`.\n"
   ]
  },
  {
   "cell_type": "code",
   "execution_count": 17,
   "metadata": {},
   "outputs": [
    {
     "data": {
      "text/plain": [
       "array([[[1.97956795, 1.11764187, 1.71274271, 1.37198926, 1.27764265],\n",
       "        [1.11364456, 1.87007386, 1.67392245, 1.31367964, 1.1557995 ],\n",
       "        [1.28389415, 1.16984642, 1.92323776, 1.39027159, 1.83540459]],\n",
       "\n",
       "       [[1.58705381, 1.36918852, 1.31010201, 1.40628146, 1.34264164],\n",
       "        [1.32134811, 1.70222468, 1.53376586, 1.71491926, 1.48876302],\n",
       "        [1.52242328, 1.46084886, 1.32183599, 1.04182066, 1.0927051 ]]])"
      ]
     },
     "execution_count": 17,
     "metadata": {},
     "output_type": "execute_result"
    }
   ],
   "source": [
    "# your code here\n",
    "f=np.empty((2,3,5))\n",
    "f"
   ]
  },
  {
   "cell_type": "markdown",
   "metadata": {},
   "source": [
    "#### 16. Populate the values in *f*. \n",
    "\n",
    "For each value in *d*, if it's larger than *d_min* but smaller than *d_mean*, assign 25 to the corresponding value in *f*. If a value in *d* is larger than *d_mean* but smaller than *d_max*, assign 75 to the corresponding value in *f*. If a value equals to *d_mean*, assign 50 to the corresponding value in *f*. Assign 0 to the corresponding value(s) in *f* for *d_min* in *d*. Assign 100 to the corresponding value(s) in *f* for *d_max* in *d*. In the end, f should have only the following values: 0, 25, 50, 75, and 100.\n",
    "\n",
    "**Note**: you don't have to use Numpy in this question."
   ]
  },
  {
   "cell_type": "code",
   "execution_count": 18,
   "metadata": {},
   "outputs": [
    {
     "name": "stdout",
     "output_type": "stream",
     "text": [
      "[[[100  25  75  25  25]\n",
      "  [ 25  75  75  25  25]\n",
      "  [ 25  25  75  25  75]]\n",
      "\n",
      " [[ 75  25  25  25  25]\n",
      "  [ 25  75  75  75  75]\n",
      "  [ 75  75  25   0  25]]]\n"
     ]
    }
   ],
   "source": [
    "# your code here\n",
    "\n",
    "f=[]\n",
    "for x in np.nditer(d):\n",
    "    if d_min < x < d_mean:\n",
    "        f += [25]\n",
    "    if d_mean < x < d_max:\n",
    "        f += [75]\n",
    "    if x == d_mean:\n",
    "        f += [50]\n",
    "    if x == d_min:\n",
    "        f += [0]\n",
    "    if x == d_max:\n",
    "        f += [100]\n",
    "\n",
    "f = np.reshape(f, d.shape)\n",
    "print(f)"
   ]
  },
  {
   "cell_type": "markdown",
   "metadata": {},
   "source": [
    "#### 17. Print *d* and *f*. Do you have your expected *f*?\n",
    "For instance, if your *d* is:\n",
    "```python\n",
    "[[[1.85836099, 1.67064465, 1.62576044, 1.40243961, 1.88454931],\n",
    "[1.75354326, 1.69403643, 1.36729252, 1.61415071, 1.12104981],\n",
    "[1.72201435, 1.1862918 , 1.87078449, 1.7726778 , 1.88180042]],\n",
    "[[1.44747908, 1.31673383, 1.02000951, 1.52218947, 1.97066381],\n",
    "[1.79129243, 1.74983003, 1.96028037, 1.85166831, 1.65450881],\n",
    "[1.18068344, 1.9587381 , 1.00656599, 1.93402165, 1.73514584]]]\n",
    "```\n",
    "Your *f* should be:\n",
    "```python\n",
    "[[[ 75.,  75.,  75.,  25.,  75.],\n",
    "[ 75.,  75.,  25.,  25.,  25.],\n",
    "[ 75.,  25.,  75.,  75.,  75.]],\n",
    "[[ 25.,  25.,  25.,  25., 100.],\n",
    "[ 75.,  75.,  75.,  75.,  75.],\n",
    "[ 25.,  75.,   0.,  75.,  75.]]]\n",
    "```"
   ]
  },
  {
   "cell_type": "code",
   "execution_count": 19,
   "metadata": {},
   "outputs": [
    {
     "name": "stdout",
     "output_type": "stream",
     "text": [
      "[[[2.97956795 2.11764187 2.71274271 2.37198926 2.27764265]\n",
      "  [2.11364456 2.87007386 2.67392245 2.31367964 2.1557995 ]\n",
      "  [2.28389415 2.16984642 2.92323776 2.39027159 2.83540459]]\n",
      "\n",
      " [[2.58705381 2.36918852 2.31010201 2.40628146 2.34264164]\n",
      "  [2.32134811 2.70222468 2.53376586 2.71491926 2.48876302]\n",
      "  [2.52242328 2.46084886 2.32183599 2.04182066 2.0927051 ]]]\n",
      "[[[100  25  75  25  25]\n",
      "  [ 25  75  75  25  25]\n",
      "  [ 25  25  75  25  75]]\n",
      "\n",
      " [[ 75  25  25  25  25]\n",
      "  [ 25  75  75  75  75]\n",
      "  [ 75  75  25   0  25]]]\n"
     ]
    }
   ],
   "source": [
    "# your code here\n",
    "print(d)\n",
    "print(f)"
   ]
  },
  {
   "cell_type": "markdown",
   "metadata": {},
   "source": [
    "#### 18. Bonus question: instead of using numbers (i.e. 0, 25, 50, 75, and 100), use string values  (\"A\", \"B\", \"C\", \"D\", and \"E\") to label the array elements. For the example above, the expected result is:\n",
    "\n",
    "```python\n",
    "[[[ 'D',  'D',  'D',  'B',  'D'],\n",
    "[ 'D',  'D',  'B',  'B',  'B'],\n",
    "[ 'D',  'B',  'D',  'D',  'D']],\n",
    "[[ 'B',  'B',  'B',  'B',  'E'],\n",
    "[ 'D',  'D',  'D',  'D',  'D'],\n",
    "[ 'B',  'D',   'A',  'D', 'D']]]\n",
    "```\n",
    "**Note**: you don't have to use Numpy in this question."
   ]
  },
  {
   "cell_type": "code",
   "execution_count": 20,
   "metadata": {},
   "outputs": [
    {
     "name": "stdout",
     "output_type": "stream",
     "text": [
      "[[['E' 'B' 'D' 'B' 'B']\n",
      "  ['B' 'D' 'D' 'B' 'B']\n",
      "  ['B' 'B' 'D' 'B' 'D']]\n",
      "\n",
      " [['D' 'B' 'B' 'B' 'B']\n",
      "  ['B' 'D' 'D' 'D' 'D']\n",
      "  ['D' 'D' 'B' 'A' 'B']]]\n"
     ]
    }
   ],
   "source": [
    "# your code here\n",
    "f=[]\n",
    "for x in np.nditer(d):\n",
    "    if d_min < x < d_mean:\n",
    "        f += ['B']\n",
    "    if d_mean < x < d_max:\n",
    "        f += ['D']\n",
    "    if x == d_mean:\n",
    "        f += ['C']\n",
    "    if x == d_min:\n",
    "        f += ['A']\n",
    "    if x == d_max:\n",
    "        f += ['E']\n",
    "\n",
    "f = np.reshape(f, d.shape)\n",
    "print(f)"
   ]
  },
  {
   "cell_type": "code",
   "execution_count": null,
   "metadata": {},
   "outputs": [],
   "source": []
  }
 ],
 "metadata": {
  "kernelspec": {
   "display_name": "Python 3 (ipykernel)",
   "language": "python",
   "name": "python3"
  },
  "language_info": {
   "codemirror_mode": {
    "name": "ipython",
    "version": 3
   },
   "file_extension": ".py",
   "mimetype": "text/x-python",
   "name": "python",
   "nbconvert_exporter": "python",
   "pygments_lexer": "ipython3",
   "version": "3.9.7"
  }
 },
 "nbformat": 4,
 "nbformat_minor": 2
}

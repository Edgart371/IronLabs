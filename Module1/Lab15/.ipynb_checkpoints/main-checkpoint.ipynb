{
 "cells": [
  {
   "cell_type": "code",
   "execution_count": 1,
   "id": "84fea23b",
   "metadata": {},
   "outputs": [
    {
     "name": "stdout",
     "output_type": "stream",
     "text": [
      "Collecting stackapi\n",
      "  Downloading StackAPI-0.2.0.tar.gz (5.6 kB)\n",
      "Requirement already satisfied: requests in /Users/edgartome_1/opt/anaconda3/lib/python3.9/site-packages (from stackapi) (2.26.0)\n",
      "Requirement already satisfied: six in /Users/edgartome_1/opt/anaconda3/lib/python3.9/site-packages (from stackapi) (1.16.0)\n",
      "Requirement already satisfied: charset-normalizer~=2.0.0 in /Users/edgartome_1/opt/anaconda3/lib/python3.9/site-packages (from requests->stackapi) (2.0.4)\n",
      "Requirement already satisfied: idna<4,>=2.5 in /Users/edgartome_1/opt/anaconda3/lib/python3.9/site-packages (from requests->stackapi) (3.2)\n",
      "Requirement already satisfied: certifi>=2017.4.17 in /Users/edgartome_1/opt/anaconda3/lib/python3.9/site-packages (from requests->stackapi) (2021.10.8)\n",
      "Requirement already satisfied: urllib3<1.27,>=1.21.1 in /Users/edgartome_1/opt/anaconda3/lib/python3.9/site-packages (from requests->stackapi) (1.26.7)\n",
      "Building wheels for collected packages: stackapi\n",
      "  Building wheel for stackapi (setup.py) ... \u001b[?25ldone\n",
      "\u001b[?25h  Created wheel for stackapi: filename=StackAPI-0.2.0-py3-none-any.whl size=5856 sha256=2cb0db5bb5a09952a16ba159d12d17e1cccd603ef5c7bd3610c19a92b6e217d8\n",
      "  Stored in directory: /Users/edgartome_1/Library/Caches/pip/wheels/de/58/fe/8bab7cf44d8b0bf32e46f1715df2ba8c97d475de95a20985ac\n",
      "Successfully built stackapi\n",
      "Installing collected packages: stackapi\n",
      "Successfully installed stackapi-0.2.0\n",
      "Note: you may need to restart the kernel to use updated packages.\n"
     ]
    }
   ],
   "source": [
    "pip install stackapi"
   ]
  },
  {
   "cell_type": "code",
   "execution_count": 2,
   "id": "5e28eae3",
   "metadata": {},
   "outputs": [],
   "source": [
    "import json\n",
    "import requests\n",
    "import pandas as pd"
   ]
  },
  {
   "cell_type": "code",
   "execution_count": null,
   "id": "4a90d81b",
   "metadata": {},
   "outputs": [],
   "source": []
  }
 ],
 "metadata": {
  "kernelspec": {
   "display_name": "Python 3 (ipykernel)",
   "language": "python",
   "name": "python3"
  },
  "language_info": {
   "codemirror_mode": {
    "name": "ipython",
    "version": 3
   },
   "file_extension": ".py",
   "mimetype": "text/x-python",
   "name": "python",
   "nbconvert_exporter": "python",
   "pygments_lexer": "ipython3",
   "version": "3.9.7"
  }
 },
 "nbformat": 4,
 "nbformat_minor": 5
}

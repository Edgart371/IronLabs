{
 "cells": [
  {
   "cell_type": "code",
   "execution_count": 1,
   "id": "ff3be033",
   "metadata": {},
   "outputs": [],
   "source": [
    "# 1. Remove All The Marked Elements of a List (https://www.codewars.com/kata/remove-all-the-marked-elements-of-a-list)"
   ]
  },
  {
   "cell_type": "code",
   "execution_count": 2,
   "id": "beeddf73",
   "metadata": {},
   "outputs": [],
   "source": [
    "def list_int(integer_list,values_list):\n",
    "    result = []\n",
    "    for i in integer_list:\n",
    "        if i  not in values_list:\n",
    "            result.append(i)\n",
    "        #else:\n",
    "            #continue\n",
    "    return result"
   ]
  },
  {
   "cell_type": "code",
   "execution_count": 3,
   "id": "7c79644e",
   "metadata": {},
   "outputs": [
    {
     "data": {
      "text/plain": [
       "[2, 2, 4]"
      ]
     },
     "execution_count": 3,
     "metadata": {},
     "output_type": "execute_result"
    }
   ],
   "source": [
    "integer_list = [1, 1, 2 ,3 ,1 ,2 ,3 ,4]\n",
    "values_list = [1, 3]\n",
    "list_int(integer_list,values_list)"
   ]
  },
  {
   "cell_type": "code",
   "execution_count": 4,
   "id": "799a44fe",
   "metadata": {},
   "outputs": [
    {
     "data": {
      "text/plain": [
       "[5, 6, 7, 8]"
      ]
     },
     "execution_count": 4,
     "metadata": {},
     "output_type": "execute_result"
    }
   ],
   "source": [
    "integer_list = [1, 1, 2 ,3 ,1 ,2 ,3 ,4, 4, 3 ,5, 6, 7, 2, 8]\n",
    "values_list = [1, 3, 4, 2]\n",
    "list_int(integer_list,values_list)"
   ]
  },
  {
   "cell_type": "code",
   "execution_count": 5,
   "id": "79ea26ee",
   "metadata": {},
   "outputs": [
    {
     "data": {
      "text/plain": [
       "[8, 7, 6, 5, 1]"
      ]
     },
     "execution_count": 5,
     "metadata": {},
     "output_type": "execute_result"
    }
   ],
   "source": [
    "integer_list = [8, 2, 7, 2, 3, 4, 6, 5, 4, 4, 1, 2 , 3]\n",
    "values_list = [2, 4, 3]\n",
    "list_int(integer_list,values_list)"
   ]
  },
  {
   "cell_type": "code",
   "execution_count": 6,
   "id": "a2296243",
   "metadata": {},
   "outputs": [],
   "source": [
    "#2. Method For Counting Total Occurence Of Specific Digits (https://www.codewars.com/kata/method-for-counting-total-occurence-of-specific-digits)"
   ]
  },
  {
   "cell_type": "code",
   "execution_count": 7,
   "id": "436f686a",
   "metadata": {},
   "outputs": [],
   "source": [
    "def int_digits(integers,digits):\n",
    "    digit_counts = []\n",
    "    results = []\n",
    "    \n",
    "    int_str =''.join([str(i) for i in integers])\n",
    "\n",
    "    for j in digits:\n",
    "        digit_counts.append((j,int_str.count(str(j))))\n",
    "    \n",
    "    #for k in range(len(digits)):\n",
    "        #results.append((digits[k],digit_counts[k]))\n",
    "    return digit_counts"
   ]
  },
  {
   "cell_type": "code",
   "execution_count": 8,
   "id": "03cfd17b",
   "metadata": {},
   "outputs": [
    {
     "data": {
      "text/plain": [
       "[(1, 3), (3, 2)]"
      ]
     },
     "execution_count": 8,
     "metadata": {},
     "output_type": "execute_result"
    }
   ],
   "source": [
    "int_digits([1, 1, 2 ,3 ,1 ,2 ,3 ,4] , [1, 3])"
   ]
  },
  {
   "cell_type": "code",
   "execution_count": 9,
   "id": "67cc7b14",
   "metadata": {},
   "outputs": [
    {
     "data": {
      "text/plain": [
       "[(1, 7), (8, 5), (4, 0)]"
      ]
     },
     "execution_count": 9,
     "metadata": {},
     "output_type": "execute_result"
    }
   ],
   "source": [
    "ints = [-18, -31, 81, -19, 111, -888]\n",
    "digits = [1, 8, 4]\n",
    "\n",
    "int_digits(ints,digits)"
   ]
  },
  {
   "cell_type": "code",
   "execution_count": 10,
   "id": "d21b6833",
   "metadata": {},
   "outputs": [
    {
     "data": {
      "text/plain": [
       "[(1, 0), (8, 0), (4, 0)]"
      ]
     },
     "execution_count": 10,
     "metadata": {},
     "output_type": "execute_result"
    }
   ],
   "source": [
    "ints = [-77, -65, 56, -79, 6666, 222]\n",
    "digits = [1, 8, 4]\n",
    "\n",
    "int_digits(ints,digits)"
   ]
  },
  {
   "cell_type": "code",
   "execution_count": 11,
   "id": "8de6eeab",
   "metadata": {},
   "outputs": [],
   "source": [
    "#3. Ordered Count of Characters (https://www.codewars.com/kata/ordered-count-of-characters)"
   ]
  },
  {
   "cell_type": "code",
   "execution_count": 12,
   "id": "2cbd3b6e",
   "metadata": {},
   "outputs": [],
   "source": [
    "def ordered_count(num):\n",
    "    input_order = []\n",
    "    for i in num:\n",
    "        #if i not in input_order:\n",
    "        input_order.append(i)\n",
    "    count = {}\n",
    "    for i in input_order:\n",
    "        count[i] = num.count(i)\n",
    "    keys_count = list(count.keys())\n",
    "    #print(keys_count)\n",
    "    result = []\n",
    "    for key in keys_count:\n",
    "        result.append((key,count[key]))\n",
    "        #print(key)\n",
    "        #print(count[key])\n",
    "    return result"
   ]
  },
  {
   "cell_type": "code",
   "execution_count": 13,
   "id": "c7d54fc6",
   "metadata": {},
   "outputs": [
    {
     "data": {
      "text/plain": [
       "[('a', 5), ('b', 2), ('r', 2), ('c', 1), ('d', 1)]"
      ]
     },
     "execution_count": 13,
     "metadata": {},
     "output_type": "execute_result"
    }
   ],
   "source": [
    "ordered_count(\"abracadabra\")"
   ]
  },
  {
   "cell_type": "code",
   "execution_count": null,
   "id": "8c5a8b59",
   "metadata": {},
   "outputs": [],
   "source": []
  }
 ],
 "metadata": {
  "kernelspec": {
   "display_name": "Python 3 (ipykernel)",
   "language": "python",
   "name": "python3"
  },
  "language_info": {
   "codemirror_mode": {
    "name": "ipython",
    "version": 3
   },
   "file_extension": ".py",
   "mimetype": "text/x-python",
   "name": "python",
   "nbconvert_exporter": "python",
   "pygments_lexer": "ipython3",
   "version": "3.9.7"
  }
 },
 "nbformat": 4,
 "nbformat_minor": 5
}

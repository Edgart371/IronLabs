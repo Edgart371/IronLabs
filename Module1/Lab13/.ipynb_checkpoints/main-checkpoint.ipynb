{
 "cells": [
  {
   "cell_type": "code",
   "execution_count": 1,
   "id": "e1323dcc",
   "metadata": {},
   "outputs": [],
   "source": [
    "import json\n",
    "import requests\n",
    "import pandas as pd"
   ]
  },
  {
   "cell_type": "code",
   "execution_count": null,
   "id": "e8c1651a",
   "metadata": {},
   "outputs": [],
   "source": [
    "#1."
   ]
  },
  {
   "cell_type": "code",
   "execution_count": 2,
   "id": "3f6a2ec9",
   "metadata": {},
   "outputs": [],
   "source": [
    "response = requests.get('https://xkcd.com')"
   ]
  },
  {
   "cell_type": "code",
   "execution_count": 3,
   "id": "b4167dc0",
   "metadata": {},
   "outputs": [
    {
     "data": {
      "text/plain": [
       "{'Connection': 'keep-alive', 'Content-Length': '3144', 'Server': 'nginx', 'Content-Type': 'text/html; charset=UTF-8', 'Last-Modified': 'Mon, 16 May 2022 23:33:58 GMT', 'ETag': 'W/\"6282df66-1eea\"', 'Expires': 'Mon, 16 May 2022 23:39:57 GMT', 'Cache-Control': 'max-age=300', 'Content-Encoding': 'gzip', 'Via': '1.1 varnish, 1.1 varnish', 'Accept-Ranges': 'bytes', 'Date': 'Wed, 18 May 2022 06:46:56 GMT', 'Age': '44', 'X-Served-By': 'cache-dfw18620-DFW, cache-cdg20764-CDG', 'X-Cache': 'HIT, HIT', 'X-Cache-Hits': '2, 1', 'X-Timer': 'S1652856416.301500,VS0,VE0', 'Vary': 'Accept-Encoding'}"
      ]
     },
     "execution_count": 3,
     "metadata": {},
     "output_type": "execute_result"
    }
   ],
   "source": [
    "headers = response.headers\n",
    "headers"
   ]
  },
  {
   "cell_type": "code",
   "execution_count": 4,
   "id": "328f7b2b",
   "metadata": {},
   "outputs": [
    {
     "data": {
      "text/plain": [
       "'Mon, 16 May 2022 23:39:57 GMT'"
      ]
     },
     "execution_count": 4,
     "metadata": {},
     "output_type": "execute_result"
    }
   ],
   "source": [
    "response.headers[\"Expires\"]"
   ]
  },
  {
   "cell_type": "code",
   "execution_count": 5,
   "id": "534aa1ba",
   "metadata": {},
   "outputs": [
    {
     "data": {
      "text/plain": [
       "<Response [200]>"
      ]
     },
     "execution_count": 5,
     "metadata": {},
     "output_type": "execute_result"
    }
   ],
   "source": [
    "response"
   ]
  },
  {
   "cell_type": "code",
   "execution_count": 6,
   "id": "b7bbfee4",
   "metadata": {},
   "outputs": [
    {
     "name": "stdout",
     "output_type": "stream",
     "text": [
      "<!DOCTYPE html>\n",
      "<html>\n",
      "<head>\n",
      "<link rel=\"stylesheet\" type=\"text/css\" href=\"/s/7d94e0.css\" title=\"Default\"/>\n",
      "<title>xkcd: Health Data</title>\n",
      "<meta http-equiv=\"X-UA-Compatible\" content=\"IE=edge\"/>\n",
      "<link rel=\"shortcut icon\" href=\"/s/919f27.ico\" type=\"image/x-icon\"/>\n",
      "<link rel=\"icon\" href=\"/s/919f27.ico\" type=\"image/x-icon\"/>\n",
      "<link rel=\"alternate\" type=\"application/atom+xml\" title=\"Atom 1.0\" href=\"/atom.xml\"/>\n",
      "<link rel=\"alternate\" type=\"application/rss+xml\" title=\"RSS 2.0\" href=\"/rss.xml\"/>\n",
      "<script type=\"text/javascript\" src=\"/s/b66ed7.js\" async></script>\n",
      "<script type=\"text/javascript\" src=\"/s/1b9456.js\" async></script>\n",
      "\n",
      "<meta property=\"og:site_name\" content=\"xkcd\">\n",
      "\n",
      "<meta property=\"og:title\" content=\"Health Data\">\n",
      "<meta property=\"og:url\" content=\"https://xkcd.com/2620/\">\n",
      "<meta property=\"og:image\" content=\"https://imgs.xkcd.com/comics/health_data_2x.png\">\n",
      "<meta name=\"twitter:card\" content=\"summary_large_image\">\n",
      "\n",
      "</head>\n",
      "<body>\n",
      "<div id=\"topContainer\">\n",
      "<div id=\"topLeft\">\n",
      "<ul>\n",
      "<li><a href=\"/archive\">Archive</a></li>\n",
      "<li><a href=\"https://what-if.xkcd.com\">What If?</a></li>\n",
      "<li><a href=\"https://blag.xkcd.com\">Blag</a></li>\n",
      "<li><a rel=\"author\" href=\"/about\">About</a></li>\n",
      "<li><a href=\"/atom.xml\">Feed</a>&bull;<a href=\"/newsletter/\">Email</a></li>\n",
      "<li><a href=\"https://twitter.com/xkcd/\">TW</a>&bull;<a href=\"https://www.facebook.com/TheXKCD/\">FB</a>&bull;<a href=\"https://www.instagram.com/xkcd/\">IG</a></li>\n",
      "<li><a href=\"/books/\">-Books-</a></li>\n",
      "<li><a href=\"/what-if-2/\">What If? 2</a></li>\n",
      "<li><a href=\"/what-if/\">WI?</a>&bull;<a href=\"/thing-explainer/\">TE</a>&bull;<a href=\"/how-to/\">HT</a></li>\n",
      "</ul>\n",
      "</div>\n",
      "<div id=\"topRight\">\n",
      "<div id=\"masthead\">\n",
      "<span><a href=\"/\"><img src=\"/s/0b7742.png\" alt=\"xkcd.com logo\" height=\"83\" width=\"185\"/></a></span>\n",
      "<span id=\"slogan\">A webcomic of romance,<br/> sarcasm, math, and language.</span>\n",
      "</div>\n",
      "<div id=\"news\">\n",
      "<div id=\"xkcdNews\">\n",
      "<div id=\"countdown\" style=\"float: right; margin-right: 25px; width: 160px; height: 100px; position: relative;\"><a style=\"display: flex;\" href=\"https://xkcd.com/what-if-2/\"><img alt=\"\" style=\"width: 160px; height: 100px;\" src=\"https://xkcd.com/s/5bef6b.png\"><span style=\"position: absolute; left: 50%; top: 50%; transform: translate(-50%, -50%); padding: 0px 8px; color: black; font-family: xkcd-Regular-v3; font-size: 20px; font-variant: small-caps; letter-spacing: 1px; white-space: nowrap; background: white none repeat scroll 0% 0%; border-radius: 99px; display: none;\"></span></a></div>\n",
      "<em>What If? 2: Additional Serious Scientific Answers to Absurd Hypothetical Questions</em> comes out 9/13. Preorder <a href=\"https://xkcd.com/what-if-2\">here!</a>\n",
      "</div>\n",
      "<script>\n",
      "var client = new XMLHttpRequest();\n",
      "client.open(\"GET\", \"//c.xkcd.com/xkcd/news\", true);\n",
      "client.send();\n",
      "client.onreadystatechange = function() {\n",
      "  if(client.readyState == 4 && client.status == 200) {\n",
      "    document.getElementById(\"xkcdNews\").innerHTML = client.responseText;\n",
      "  }\n",
      "}\n",
      "</script>\n",
      "\n",
      "</div>\n",
      "</div>\n",
      "<div id=\"bgLeft\" class=\"bg box\"></div>\n",
      "<div id=\"bgRight\" class=\"bg box\"></div>\n",
      "</div>\n",
      "<div id=\"middleContainer\" class=\"box\">\n",
      "\n",
      "<div id=\"ctitle\">Health Data</div>\n",
      "<ul class=\"comicNav\">\n",
      "<li><a href=\"/1/\">|&lt;</a></li>\n",
      "<li><a rel=\"prev\" href=\"/2619/\" accesskey=\"p\">&lt; Prev</a></li>\n",
      "<li><a href=\"//c.xkcd.com/random/comic/\">Random</a></li>\n",
      "<li><a rel=\"next\" href=\"#\" accesskey=\"n\">Next &gt;</a></li>\n",
      "<li><a href=\"/\">&gt;|</a></li>\n",
      "</ul>\n",
      "<div id=\"comic\">\n",
      "<img src=\"//imgs.xkcd.com/comics/health_data.png\" title=\"Donate now to help us find a cure for causality. No one should have to suffer through events because of other events.\" alt=\"Health Data\" srcset=\"//imgs.xkcd.com/comics/health_data_2x.png 2x\" style=\"image-orientation:none\" />\n",
      "</div>\n",
      "<ul class=\"comicNav\">\n",
      "<li><a href=\"/1/\">|&lt;</a></li>\n",
      "<li><a rel=\"prev\" href=\"/2619/\" accesskey=\"p\">&lt; Prev</a></li>\n",
      "<li><a href=\"//c.xkcd.com/random/comic/\">Random</a></li>\n",
      "<li><a rel=\"next\" href=\"#\" accesskey=\"n\">Next &gt;</a></li>\n",
      "<li><a href=\"/\">&gt;|</a></li>\n",
      "</ul>\n",
      "<br />\n",
      "Permanent link to this comic: <a href=\"https://xkcd.com/2620\">https://xkcd.com/2620/</a><br />\n",
      "Image URL (for hotlinking/embedding): <a href= \"https://imgs.xkcd.com/comics/health_data.png\">https://imgs.xkcd.com/comics/health_data.png</a>\n",
      "\n",
      "<div id=\"transcript\" style=\"display: none\"></div>\n",
      "</div>\n",
      "<div id=\"bottom\" class=\"box\">\n",
      "<img src=\"//imgs.xkcd.com/s/a899e84.jpg\" width=\"520\" height=\"100\" alt=\"Selected Comics\" usemap=\"#comicmap\"/>\n",
      "<map id=\"comicmap\" name=\"comicmap\">\n",
      "<area shape=\"rect\" coords=\"0,0,100,100\" href=\"/150/\" alt=\"Grownups\"/>\n",
      "<area shape=\"rect\" coords=\"104,0,204,100\" href=\"/730/\" alt=\"Circuit Diagram\"/>\n",
      "<area shape=\"rect\" coords=\"208,0,308,100\" href=\"/162/\" alt=\"Angular Momentum\"/>\n",
      "<area shape=\"rect\" coords=\"312,0,412,100\" href=\"/688/\" alt=\"Self-Description\"/>\n",
      "<area shape=\"rect\" coords=\"416,0,520,100\" href=\"/556/\" alt=\"Alternative Energy Revolution\"/>\n",
      "</map>\n",
      "<br />\n",
      "<a href=\"//xkcd.com/1732/\"><img border=0 src=\"//imgs.xkcd.com/s/temperature.png\" width=\"520\" height=\"100\" alt=\"Earth temperature timeline\"></a>\n",
      "<br />\n",
      "<div>\n",
      "<!--\n",
      "Search comic titles and transcripts:\n",
      "<script type=\"text/javascript\" src=\"//www.google.com/jsapi\"></script>\n",
      "<script type=\"text/javascript\">google.load('search', '1');google.setOnLoadCallback(function() {google.search.CustomSearchControl.attachAutoCompletion('012652707207066138651:zudjtuwe28q',document.getElementById('q'),'cse-search-box');});</script>\n",
      "<form action=\"//www.google.com/cse\" id=\"cse-search-box\">\n",
      "<div>\n",
      "<input type=\"hidden\" name=\"cx\" value=\"012652707207066138651:zudjtuwe28q\"/>\n",
      "<input type=\"hidden\" name=\"ie\" value=\"UTF-8\"/>\n",
      "<input type=\"text\" name=\"q\" id=\"q\" size=\"31\"/>\n",
      "<input type=\"submit\" name=\"sa\" value=\"Search\"/>\n",
      "</div>\n",
      "</form>\n",
      "<script type=\"text/javascript\" src=\"//www.google.com/cse/brand?form=cse-search-box&amp;lang=en\"></script>\n",
      "-->\n",
      "<a href=\"/rss.xml\">RSS Feed</a> - <a href=\"/atom.xml\">Atom Feed</a> - <a href=\"/newsletter/\">Email</a>\n",
      "</div>\n",
      "<br />\n",
      "<div id=\"comicLinks\">\n",
      "Comics I enjoy:<br/>\n",
      "        <a href=\"http://threewordphrase.com/\">Three Word Phrase</a>,\n",
      "        <a href=\"https://www.smbc-comics.com/\">SMBC</a>,\n",
      "        <a href=\"https://www.qwantz.com\">Dinosaur Comics</a>,\n",
      "        <a href=\"https://oglaf.com/\">Oglaf</a> (nsfw),\n",
      "        <a href=\"https://www.asofterworld.com\">A Softer World</a>,\n",
      "        <a href=\"https://buttersafe.com/\">Buttersafe</a>,\n",
      "        <a href=\"https://pbfcomics.com/\">Perry Bible Fellowship</a>,\n",
      "        <a href=\"https://questionablecontent.net/\">Questionable Content</a>,\n",
      "        <a href=\"http://www.buttercupfestival.com/\">Buttercup Festival</a>,\n",
      "        <a href=\"https://www.mspaintadventures.com/\">Homestuck</a>,\n",
      "\t<a href=\"https://www.jspowerhour.com/\">Junior Scientist Power Hour</a>\n",
      "</div>\n",
      "<br />\n",
      "<div id=\"comicLinks\">\n",
      "Other things:<br/>\n",
      "        <a href=\"https://medium.com/civic-tech-thoughts-from-joshdata/so-you-want-to-reform-democracy-7f3b1ef10597\">Tips on technology and government</a>,<br /> \n",
      "        <a href=\"https://www.nytimes.com/interactive/2017/climate/what-is-climate-change.html\">Climate FAQ</a>,\n",
      "\t<a href=\"https://twitter.com/KHayhoe\">Katharine Hayhoe</a>\n",
      "</div>\n",
      "<br />\n",
      "<center>\n",
      "<div id=\"footnote\" style=\"width:70%\">xkcd.com is best viewed with Netscape Navigator 4.0 or below on a Pentium 3&plusmn;1 emulated in Javascript on an Apple IIGS<br />at a screen resolution of 1024x1. Please enable your ad blockers, disable high-heat drying, and remove your device<br />from Airplane Mode and set it to Boat Mode. For security reasons, please leave caps lock on while browsing.</div>\n",
      "</center>\n",
      "<div id=\"licenseText\">\n",
      "<p>\n",
      "This work is licensed under a\n",
      "<a href=\"https://creativecommons.org/licenses/by-nc/2.5/\">Creative Commons Attribution-NonCommercial 2.5 License</a>.\n",
      "</p><p>\n",
      "This means you're free to copy and share these comics (but not to sell them). <a rel=\"license\" href=\"/license.html\">More details</a>.</p>\n",
      "</div>\n",
      "</div>\n",
      "</body>\n",
      "<!-- Layout by Ian Clasbey, davean, and chromakode -->\n",
      "</html>\n",
      "\n",
      "\n"
     ]
    }
   ],
   "source": [
    "r = requests.get('https://xkcd.com')\n",
    "print(r.text)"
   ]
  },
  {
   "cell_type": "code",
   "execution_count": 7,
   "id": "cfd56bf8",
   "metadata": {},
   "outputs": [],
   "source": [
    "receive = requests.get(\"https://imgs.xkcd.com/comics/secretary_part_3.png\")\n",
    "with open (r'/Users/edgartome_1/IronHack/IronLabs/Module1/Lab13/image','wb') as f:\n",
    "    f.write(receive.content)"
   ]
  },
  {
   "cell_type": "code",
   "execution_count": 8,
   "id": "e4cfe578",
   "metadata": {},
   "outputs": [
    {
     "data": {
      "text/plain": [
       "('my_image2.jpg', <http.client.HTTPMessage at 0x7fcc498294c0>)"
      ]
     },
     "execution_count": 8,
     "metadata": {},
     "output_type": "execute_result"
    }
   ],
   "source": [
    "import urllib.request\n",
    "\n",
    "image_url = 'https://imgs.xkcd.com/comics/secretary_part_3.png' #the image on the web\n",
    "save_name = 'my_image2.jpg' #local name to be saved\n",
    "urllib.request.urlretrieve(image_url, save_name)"
   ]
  },
  {
   "cell_type": "code",
   "execution_count": null,
   "id": "cd3b9aef",
   "metadata": {},
   "outputs": [],
   "source": [
    "#2."
   ]
  },
  {
   "cell_type": "code",
   "execution_count": 9,
   "id": "97cb5597",
   "metadata": {},
   "outputs": [],
   "source": [
    "response2 = requests.get('https://httpbin.org/get')"
   ]
  },
  {
   "cell_type": "code",
   "execution_count": 10,
   "id": "1feef1f8",
   "metadata": {},
   "outputs": [
    {
     "name": "stdout",
     "output_type": "stream",
     "text": [
      "{\n",
      "  \"args\": {}, \n",
      "  \"headers\": {\n",
      "    \"Accept\": \"*/*\", \n",
      "    \"Accept-Encoding\": \"gzip, deflate, br\", \n",
      "    \"Host\": \"httpbin.org\", \n",
      "    \"User-Agent\": \"python-requests/2.26.0\", \n",
      "    \"X-Amzn-Trace-Id\": \"Root=1-6284966d-27023eb61a4b8d962353590f\"\n",
      "  }, \n",
      "  \"origin\": \"195.134.167.217\", \n",
      "  \"url\": \"https://httpbin.org/get\"\n",
      "}\n",
      "\n"
     ]
    }
   ],
   "source": [
    "print(response2.text)"
   ]
  },
  {
   "cell_type": "code",
   "execution_count": 11,
   "id": "5bd9438a",
   "metadata": {},
   "outputs": [
    {
     "data": {
      "text/plain": [
       "{'Connection': 'keep-alive', 'Content-Length': '3144', 'Server': 'nginx', 'Content-Type': 'text/html; charset=UTF-8', 'Last-Modified': 'Mon, 16 May 2022 23:33:58 GMT', 'ETag': 'W/\"6282df66-1eea\"', 'Expires': 'Mon, 16 May 2022 23:39:57 GMT', 'Cache-Control': 'max-age=300', 'Content-Encoding': 'gzip', 'Via': '1.1 varnish, 1.1 varnish', 'Accept-Ranges': 'bytes', 'Date': 'Wed, 18 May 2022 06:46:56 GMT', 'Age': '44', 'X-Served-By': 'cache-dfw18620-DFW, cache-cdg20764-CDG', 'X-Cache': 'HIT, HIT', 'X-Cache-Hits': '2, 1', 'X-Timer': 'S1652856416.301500,VS0,VE0', 'Vary': 'Accept-Encoding'}"
      ]
     },
     "execution_count": 11,
     "metadata": {},
     "output_type": "execute_result"
    }
   ],
   "source": [
    "headers = response.headers\n",
    "headers"
   ]
  },
  {
   "cell_type": "code",
   "execution_count": 12,
   "id": "212cc2fb",
   "metadata": {},
   "outputs": [
    {
     "name": "stdout",
     "output_type": "stream",
     "text": [
      "{'things': 2, 'total': 25}\n",
      "<class 'dict'>\n"
     ]
    }
   ],
   "source": [
    "y = {'things': 2,'total': 25}\n",
    "print(y)\n",
    "print(type(y))"
   ]
  },
  {
   "cell_type": "code",
   "execution_count": 13,
   "id": "5f756f91",
   "metadata": {},
   "outputs": [],
   "source": [
    " r = requests.get(url = 'https://httpbin.org/get', params = y)"
   ]
  },
  {
   "cell_type": "code",
   "execution_count": 14,
   "id": "5174357c",
   "metadata": {},
   "outputs": [
    {
     "name": "stdout",
     "output_type": "stream",
     "text": [
      "<Response [200]>\n"
     ]
    }
   ],
   "source": [
    "print(r)"
   ]
  },
  {
   "cell_type": "code",
   "execution_count": 15,
   "id": "766a0590",
   "metadata": {},
   "outputs": [],
   "source": [
    "data = r.json()"
   ]
  },
  {
   "cell_type": "code",
   "execution_count": 16,
   "id": "c68d2914",
   "metadata": {},
   "outputs": [
    {
     "name": "stdout",
     "output_type": "stream",
     "text": [
      "{'args': {'things': '2', 'total': '25'}, 'headers': {'Accept': '*/*', 'Accept-Encoding': 'gzip, deflate, br', 'Host': 'httpbin.org', 'User-Agent': 'python-requests/2.26.0', 'X-Amzn-Trace-Id': 'Root=1-62849674-52b100c33a66fe3e77d497df'}, 'origin': '195.134.167.217', 'url': 'https://httpbin.org/get?things=2&total=25'}\n"
     ]
    }
   ],
   "source": [
    "print(data)"
   ]
  },
  {
   "cell_type": "code",
   "execution_count": 17,
   "id": "d239d6d5",
   "metadata": {},
   "outputs": [],
   "source": [
    "userpass = {'user': 'edgar','pass': 'qwert'}\n",
    "r = requests.post(url = 'https://httpbin.org/post', params = userpass)"
   ]
  },
  {
   "cell_type": "code",
   "execution_count": 18,
   "id": "ea1b13bd",
   "metadata": {},
   "outputs": [
    {
     "data": {
      "text/plain": [
       "'{\\n  \"args\": {\\n    \"pass\": \"qwert\", \\n    \"user\": \"edgar\"\\n  }, \\n  \"data\": \"\", \\n  \"files\": {}, \\n  \"form\": {}, \\n  \"headers\": {\\n    \"Accept\": \"*/*\", \\n    \"Accept-Encoding\": \"gzip, deflate, br\", \\n    \"Content-Length\": \"0\", \\n    \"Host\": \"httpbin.org\", \\n    \"User-Agent\": \"python-requests/2.26.0\", \\n    \"X-Amzn-Trace-Id\": \"Root=1-62849678-6e3665e412a5bf471ba58312\"\\n  }, \\n  \"json\": null, \\n  \"origin\": \"195.134.167.217\", \\n  \"url\": \"https://httpbin.org/post?user=edgar&pass=qwert\"\\n}\\n'"
      ]
     },
     "execution_count": 18,
     "metadata": {},
     "output_type": "execute_result"
    }
   ],
   "source": [
    "r.text"
   ]
  },
  {
   "cell_type": "code",
   "execution_count": null,
   "id": "b4bc6c21",
   "metadata": {},
   "outputs": [],
   "source": [
    "#3."
   ]
  },
  {
   "cell_type": "code",
   "execution_count": 20,
   "id": "10139279",
   "metadata": {},
   "outputs": [
    {
     "data": {
      "text/plain": [
       "{'total_count': 0, 'incomplete_results': False, 'items': []}"
      ]
     },
     "execution_count": 20,
     "metadata": {},
     "output_type": "execute_result"
    }
   ],
   "source": [
    "response = requests.get('https://api.github.com/search/code?q=.scavengerhunt in:path+repo:ironhack-datalabs/scavenger')\n",
    "search = response.json()\n",
    "search"
   ]
  },
  {
   "cell_type": "code",
   "execution_count": null,
   "id": "71241a6a",
   "metadata": {
    "scrolled": false
   },
   "outputs": [],
   "source": [
    "data = pd.DataFrame(search['items'])\n",
    "data_sorted = data.sort_values(by=['name'])\n",
    "data_sorted"
   ]
  },
  {
   "cell_type": "code",
   "execution_count": null,
   "id": "a0aa8455",
   "metadata": {},
   "outputs": [],
   "source": [
    "# 1. Import the requests library\n",
    "import requests\n",
    "URL = \"https://api.github.com/repos/ironhack-datalabs/scavenger/git/blobs/47eb4306e5fec9e051dacabc7039348109784b94\"\n",
    "# 2. download the data behind the URL\n",
    "response = requests.get(URL)\n",
    "# 3. Open the response into a new file called instagram.ico\n",
    "open(\"file3.ico\", \"wb\").write(response.content)"
   ]
  },
  {
   "cell_type": "code",
   "execution_count": null,
   "id": "0bff9cf1",
   "metadata": {},
   "outputs": [],
   "source": [
    "#data = pd.DataFrame(response.json())\n",
    "#data.head(10)\n",
    "#def flatten(data, col_list):\n",
    "    #for column in col_list:\n",
    "        #flattened = pd.DataFrame(dict(data[column])).transpose()\n",
    "        #columns = [str(col) for col in flattened.columns]\n",
    "        #flattened.columns = [column + '_' + colname for colname in columns]\n",
    "        #data = pd.concat([data, flattened], axis=1)\n",
    "        #data = data.drop(column, axis=1)\n",
    "    #return data\n",
    "#nested_columns = ['items']\n",
    " \n",
    "#flat = flatten(data, nested_columns)\n",
    "#flat.head(10)"
   ]
  },
  {
   "cell_type": "code",
   "execution_count": null,
   "id": "4da00793",
   "metadata": {},
   "outputs": [],
   "source": [
    "response = requests.get('https://api.github.com/search/code?q=.0001.scavengerhunt in:path+repo:ironhack-datalabs/scavenger')\n",
    "search = response.json()\n",
    "search"
   ]
  },
  {
   "cell_type": "code",
   "execution_count": null,
   "id": "b1f8cb23",
   "metadata": {},
   "outputs": [],
   "source": [
    "data = pd.DataFrame(search['items'])\n",
    "data_sorted = data.sort_values(by=['name'])\n",
    "data_sorted"
   ]
  },
  {
   "cell_type": "code",
   "execution_count": null,
   "id": "9b672b80",
   "metadata": {},
   "outputs": [],
   "source": [
    "# 1. Import the requests library\n",
    "import requests\n",
    "URL = \"https://api.github.com/repositories/162375181/git/blobs/2add7632f1323136324efbf38ec66db1838b6173\"\n",
    "# 2. download the data behind the URL\n",
    "response = requests.get(URL)\n",
    "# 3. Open the response into a new file called\n",
    "open(\"file2.ico\", \"wb\").write(response.content)"
   ]
  },
  {
   "cell_type": "code",
   "execution_count": null,
   "id": "ab0049f9",
   "metadata": {},
   "outputs": [],
   "source": [
    "response = requests.get('https://api.github.com/search/code?q=.0024.scavengerhunt in:path+repo:ironhack-datalabs/scavenger')\n",
    "search = response.json()\n",
    "search"
   ]
  },
  {
   "cell_type": "code",
   "execution_count": null,
   "id": "6a4b14ae",
   "metadata": {
    "scrolled": true
   },
   "outputs": [],
   "source": [
    "data = pd.DataFrame(search['items'])\n",
    "data_sorted = data.sort_values(by=['name'])\n",
    "data_sorted"
   ]
  },
  {
   "cell_type": "code",
   "execution_count": null,
   "id": "c1bc6694",
   "metadata": {},
   "outputs": [],
   "source": [
    "url = \"https://api.github.com/repos/ironhack-datalabs/scavenger/git/blobs/47eb4306e5fec9e051dacabc7039348109784b94\"\n",
    "file = urllib.request.urlopen(url)\n",
    "\n",
    "for line in file:\n",
    "    decoded_line = line.decode(\"utf-8\")\n",
    "print(decoded_line)"
   ]
  },
  {
   "cell_type": "code",
   "execution_count": 1,
   "id": "5ef4c921",
   "metadata": {},
   "outputs": [
    {
     "data": {
      "text/plain": [
       "307"
      ]
     },
     "execution_count": 1,
     "metadata": {},
     "output_type": "execute_result"
    }
   ],
   "source": [
    "# 1. Import the requests library\n",
    "import requests\n",
    "URL = \"https://api.github.com/repos/ironhack-datalabs/scavenger/git/blobs/47eb4306e5fec9e051dacabc7039348109784b94\"\n",
    "# 2. download the data behind the URL\n",
    "response = requests.get(URL)\n",
    "# 3. Open the response into a new file called\n",
    "open(\"file3.ico\", \"wb\").write(response.content)"
   ]
  },
  {
   "cell_type": "code",
   "execution_count": null,
   "id": "12e5dbab",
   "metadata": {},
   "outputs": [],
   "source": []
  }
 ],
 "metadata": {
  "kernelspec": {
   "display_name": "Python 3 (ipykernel)",
   "language": "python",
   "name": "python3"
  },
  "language_info": {
   "codemirror_mode": {
    "name": "ipython",
    "version": 3
   },
   "file_extension": ".py",
   "mimetype": "text/x-python",
   "name": "python",
   "nbconvert_exporter": "python",
   "pygments_lexer": "ipython3",
   "version": "3.9.7"
  }
 },
 "nbformat": 4,
 "nbformat_minor": 5
}

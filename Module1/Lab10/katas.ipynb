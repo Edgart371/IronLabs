{
 "cells": [
  {
   "cell_type": "code",
   "execution_count": null,
   "id": "c675a4e7",
   "metadata": {},
   "outputs": [],
   "source": [
    "#1. Counting Sheeps (https://www.codewars.com/kata/54edbc7200b811e956000556)"
   ]
  },
  {
   "cell_type": "code",
   "execution_count": 1,
   "id": "b391664c",
   "metadata": {},
   "outputs": [
    {
     "data": {
      "text/plain": [
       "{'17 sheeps present in e 7 sheeps missing'}"
      ]
     },
     "execution_count": 1,
     "metadata": {},
     "output_type": "execute_result"
    }
   ],
   "source": [
    "\"\"\"def count_sheeps(list_sheep):\n",
    "    count = len(list_sheep)\n",
    "    sheeps = 0\n",
    "    for i in list_sheep:\n",
    "        if i == 'True':\n",
    "            sheeps = sheeps + 1\n",
    "        Missing = count - sheeps\"\"\"\n",
    "\n",
    "def count_sheeps(l):\n",
    "    count = 0\n",
    "    sheeps = 0\n",
    "    for i in range(len(l)):\n",
    "        if l[i] == 'True':\n",
    "            count = count + 1\n",
    "            sheeps = sheeps + 1\n",
    "        else:\n",
    "            count = count + 1\n",
    "    missing = count - sheeps\n",
    "    return{f\"{sheeps} sheeps present in e {missing} sheeps missing\"}\n",
    "sheep = ['True', 'True', 'True', 'False', 'True', 'True', 'True', 'True', 'True', 'False', 'True', 'False', 'True', 'False', 'False', 'True', 'True', 'True', 'True', 'True', 'False', 'False', 'True', 'True']\n",
    "count_sheeps(sheep)"
   ]
  },
  {
   "cell_type": "code",
   "execution_count": null,
   "id": "bb48e575",
   "metadata": {},
   "outputs": [],
   "source": [
    "#2. Removing elements (https://www.codewars.com/kata/5769b3802ae6f8e4890009d2)"
   ]
  },
  {
   "cell_type": "code",
   "execution_count": 2,
   "id": "bac2415a",
   "metadata": {},
   "outputs": [
    {
     "data": {
      "text/plain": [
       "[1, 2, 1, 1, 1, 1, 1, 1, 1, 1]"
      ]
     },
     "execution_count": 2,
     "metadata": {},
     "output_type": "execute_result"
    }
   ],
   "source": [
    "#x % 2 is 1 when the number is odd, and 0 when it is even.\n",
    "def Remove_function(array):\n",
    "    new_list = []\n",
    "    for i in range(len(array)):\n",
    "        if i%2 == 0:\n",
    "            new_list.append(array[i])\n",
    "    return new_list\n",
    "list1 = [1,0,2,3,1,0,1,0,1,0,1,0,1,0,1,0,1,0,1,0]\n",
    "Remove_function(list1)"
   ]
  },
  {
   "cell_type": "code",
   "execution_count": null,
   "id": "ed1ecb5e",
   "metadata": {},
   "outputs": [],
   "source": [
    "#3. Convert number to reversed array of digits(https://www.codewars.com/kata/5583090cbe83f4fd8c000051)"
   ]
  },
  {
   "cell_type": "code",
   "execution_count": 3,
   "id": "163c78a9",
   "metadata": {},
   "outputs": [
    {
     "data": {
      "text/plain": [
       "[0, 9, 8, 7, 6, 5, 4, 3, 2, 1]"
      ]
     },
     "execution_count": 3,
     "metadata": {},
     "output_type": "execute_result"
    }
   ],
   "source": [
    "#<object_name>[<start_index>, <stop_index>, <step>] = [::-1], Reverse position!\n",
    "\n",
    "def num_array(num):\n",
    "    num_str = str(num)[::-1]\n",
    "    array = []\n",
    "    for i in num_str:\n",
    "        array.append(int(i))\n",
    "    return array\n",
    "num_new = 1234567890\n",
    "num_array(num_new)"
   ]
  },
  {
   "cell_type": "code",
   "execution_count": null,
   "id": "a8515f3f",
   "metadata": {},
   "outputs": [],
   "source": [
    "#4. Square every digit (https://www.codewars.com/kata/546e2562b03326a88e000020)"
   ]
  },
  {
   "cell_type": "code",
   "execution_count": 4,
   "id": "b0fc7356",
   "metadata": {},
   "outputs": [
    {
     "name": "stdout",
     "output_type": "stream",
     "text": [
      "Place a number12345\n"
     ]
    },
    {
     "data": {
      "text/plain": [
       "1491625"
      ]
     },
     "execution_count": 4,
     "metadata": {},
     "output_type": "execute_result"
    }
   ],
   "source": [
    "#For iteration i have to transform number(integer) in to a many objects (string)\n",
    "#Empety string (result = '')\n",
    "#12345\n",
    "#1491625\n",
    "num = int(input(\"Place a number\"))\n",
    "def square_dig(num):\n",
    "    numero = str(num)\n",
    "    result = '' \n",
    "    for i in numero:\n",
    "        digit = (int(i))**2\n",
    "        result = result + str(digit)\n",
    "    return int(result)\n",
    "square_dig(num)"
   ]
  },
  {
   "cell_type": "code",
   "execution_count": null,
   "id": "cbed25b6",
   "metadata": {},
   "outputs": [],
   "source": [
    "#5. Counting Total Occurence Of Specific Digits (https://www.codewars.com/kata/56311e4fdd811616810000ce)"
   ]
  },
  {
   "cell_type": "code",
   "execution_count": 5,
   "id": "e436063a",
   "metadata": {},
   "outputs": [],
   "source": [
    "def int_digits(integers,digits):\n",
    "    digit_counts = []\n",
    "    results = []\n",
    "    int_str =''.join([str(i) for i in integers])\n",
    "    #print(int_str)\n",
    "    for j in digits:\n",
    "        digit_counts.append((j,int_str.count(str(j))))\n",
    "        #print(digit_counts)\n",
    "    #Replace by anding j on append before\n",
    "    #for k in range(len(digits)):\n",
    "        #results.append((digits[k],digit_counts[k]))\n",
    "        #print(results)\n",
    "    return digit_counts"
   ]
  },
  {
   "cell_type": "code",
   "execution_count": 6,
   "id": "6d252592",
   "metadata": {},
   "outputs": [
    {
     "data": {
      "text/plain": [
       "[(1, 3), (3, 2)]"
      ]
     },
     "execution_count": 6,
     "metadata": {},
     "output_type": "execute_result"
    }
   ],
   "source": [
    "int_digits([1, 1, 2 ,3 ,1 ,2 ,3 ,4] , [1, 3])"
   ]
  },
  {
   "cell_type": "code",
   "execution_count": 7,
   "id": "181094ff",
   "metadata": {},
   "outputs": [
    {
     "data": {
      "text/plain": [
       "[(1, 7), (8, 5), (4, 0)]"
      ]
     },
     "execution_count": 7,
     "metadata": {},
     "output_type": "execute_result"
    }
   ],
   "source": [
    "ints = [-18, -31, 81, -19, 111, -888]\n",
    "digits = [1, 8, 4]\n",
    "\n",
    "int_digits(ints,digits)"
   ]
  },
  {
   "cell_type": "code",
   "execution_count": 8,
   "id": "1dfa43fc",
   "metadata": {},
   "outputs": [
    {
     "data": {
      "text/plain": [
       "[(1, 0), (8, 0), (4, 0)]"
      ]
     },
     "execution_count": 8,
     "metadata": {},
     "output_type": "execute_result"
    }
   ],
   "source": [
    "ints = [-77, -65, 56, -79, 6666, 222]\n",
    "digits = [1, 8, 4]\n",
    "\n",
    "int_digits(ints,digits)"
   ]
  },
  {
   "cell_type": "code",
   "execution_count": null,
   "id": "0fd2a41c",
   "metadata": {},
   "outputs": [],
   "source": []
  }
 ],
 "metadata": {
  "kernelspec": {
   "display_name": "Python 3 (ipykernel)",
   "language": "python",
   "name": "python3"
  },
  "language_info": {
   "codemirror_mode": {
    "name": "ipython",
    "version": 3
   },
   "file_extension": ".py",
   "mimetype": "text/x-python",
   "name": "python",
   "nbconvert_exporter": "python",
   "pygments_lexer": "ipython3",
   "version": "3.9.7"
  }
 },
 "nbformat": 4,
 "nbformat_minor": 5
}
